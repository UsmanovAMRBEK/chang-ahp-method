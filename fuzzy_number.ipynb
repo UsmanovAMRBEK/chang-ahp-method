{
 "cells": [
  {
   "cell_type": "code",
   "execution_count": 35,
   "metadata": {},
   "outputs": [],
   "source": [
    "import numpy as np\n",
    "import pandas as pd"
   ]
  },
  {
   "cell_type": "code",
   "execution_count": 36,
   "metadata": {},
   "outputs": [],
   "source": [
    "# yordamchi funksiyalar\n",
    "import numpy as np\n",
    "\n",
    "def add(l1,l2):\n",
    "    return np.array([l1[0]+l2[0], l1[1]+l2[1], l1[2]+l2[2]])\n",
    "\n",
    "def prod(l1,l2):\n",
    "    return np.array([l1[0]*l2[0], l1[1]*l2[1], l1[2]*l2[2]])\n",
    "\n",
    "def kprod(k,l1):\n",
    "    return k*np.array(l1)\n",
    "\n",
    "def compl_arr(l1):\n",
    "    if 0 not in l1:\n",
    "        return np.array([1/l1[0], 1/l1[1], 1/l1[2]])\n",
    "    return\n"
   ]
  },
  {
   "cell_type": "code",
   "execution_count": 37,
   "metadata": {},
   "outputs": [
    {
     "data": {
      "text/plain": [
       "array([[1., 1., 1.],\n",
       "       [1., 1., 1.],\n",
       "       [1., 1., 1.],\n",
       "       [1., 1., 1.]])"
      ]
     },
     "execution_count": 37,
     "metadata": {},
     "output_type": "execute_result"
    }
   ],
   "source": [
    "np.ones((4,3))"
   ]
  },
  {
   "cell_type": "code",
   "execution_count": 38,
   "metadata": {},
   "outputs": [],
   "source": [
    "persons_data = np.load('./person_prep_data_1.npy')\n",
    "\n",
    "dc1 = np.ones((4,3))\n",
    "for i in range(100):\n",
    "    dc1*=persons_data[i][0]**(1/100)\n",
    "\n",
    "dc2 = np.ones((4,3))\n",
    "for i in range(100):\n",
    "    dc2*=persons_data[i][1]**(1/100)\n",
    "\n",
    "dc3 = np.ones((4,3))\n",
    "for i in range(100):\n",
    "    dc3*=persons_data[i][1]**(1/100)\n",
    "\n",
    "dc4 = np.ones((4,3))\n",
    "for i in range(100):\n",
    "    dc4*=persons_data[i][1]**(1/100)"
   ]
  },
  {
   "cell_type": "code",
   "execution_count": 39,
   "metadata": {},
   "outputs": [],
   "source": [
    "alldc = dc1+dc2+dc3+dc4"
   ]
  },
  {
   "cell_type": "code",
   "execution_count": 40,
   "metadata": {},
   "outputs": [],
   "source": [
    "pandas_alldc = pd.DataFrame(alldc)\n",
    "pandas_alldc.index = ['A','B','C','D']\n",
    "pandas_alldc.columns = ['L','M','U']"
   ]
  },
  {
   "cell_type": "code",
   "execution_count": 41,
   "metadata": {},
   "outputs": [
    {
     "data": {
      "text/html": [
       "<div>\n",
       "<style scoped>\n",
       "    .dataframe tbody tr th:only-of-type {\n",
       "        vertical-align: middle;\n",
       "    }\n",
       "\n",
       "    .dataframe tbody tr th {\n",
       "        vertical-align: top;\n",
       "    }\n",
       "\n",
       "    .dataframe thead th {\n",
       "        text-align: right;\n",
       "    }\n",
       "</style>\n",
       "<table border=\"1\" class=\"dataframe\">\n",
       "  <thead>\n",
       "    <tr style=\"text-align: right;\">\n",
       "      <th></th>\n",
       "      <th>L</th>\n",
       "      <th>M</th>\n",
       "      <th>U</th>\n",
       "    </tr>\n",
       "  </thead>\n",
       "  <tbody>\n",
       "    <tr>\n",
       "      <th>A</th>\n",
       "      <td>2.271499</td>\n",
       "      <td>2.597277</td>\n",
       "      <td>3.106160</td>\n",
       "    </tr>\n",
       "    <tr>\n",
       "      <th>B</th>\n",
       "      <td>4.417139</td>\n",
       "      <td>4.865224</td>\n",
       "      <td>5.333515</td>\n",
       "    </tr>\n",
       "    <tr>\n",
       "      <th>C</th>\n",
       "      <td>3.393582</td>\n",
       "      <td>4.395311</td>\n",
       "      <td>5.653474</td>\n",
       "    </tr>\n",
       "    <tr>\n",
       "      <th>D</th>\n",
       "      <td>6.409928</td>\n",
       "      <td>8.015870</td>\n",
       "      <td>9.698919</td>\n",
       "    </tr>\n",
       "  </tbody>\n",
       "</table>\n",
       "</div>"
      ],
      "text/plain": [
       "          L         M         U\n",
       "A  2.271499  2.597277  3.106160\n",
       "B  4.417139  4.865224  5.333515\n",
       "C  3.393582  4.395311  5.653474\n",
       "D  6.409928  8.015870  9.698919"
      ]
     },
     "execution_count": 41,
     "metadata": {},
     "output_type": "execute_result"
    }
   ],
   "source": [
    "pandas_alldc"
   ]
  },
  {
   "cell_type": "code",
   "execution_count": 42,
   "metadata": {},
   "outputs": [],
   "source": [
    "pandas_alldc_data = pandas_alldc.copy()"
   ]
  },
  {
   "cell_type": "code",
   "execution_count": 43,
   "metadata": {},
   "outputs": [],
   "source": [
    "df1 = pd.DataFrame(dc1, index = list(\"ABCD\"))\n",
    "df2 = pd.DataFrame(dc2, index = list(\"ABCD\"))\n",
    "df3 = pd.DataFrame(dc3, index = list(\"ABCD\"))\n",
    "df4 = pd.DataFrame(dc4, index = list(\"ABCD\"))\n",
    "ret_data = [df1,df2,df3,df4]"
   ]
  },
  {
   "cell_type": "code",
   "execution_count": 44,
   "metadata": {},
   "outputs": [
    {
     "data": {
      "text/plain": [
       "[          0         1         2\n",
       " A  1.000000  1.000000  1.000000\n",
       " B  1.417139  1.865224  2.333515\n",
       " C  1.708187  2.234312  2.742620\n",
       " D  1.957575  2.448132  2.940530,\n",
       "           0         1         2\n",
       " A  0.423833  0.532426  0.702053\n",
       " B  1.000000  1.000000  1.000000\n",
       " C  0.561798  0.720333  0.970285\n",
       " D  1.484118  1.855913  2.252796,\n",
       "           0         1         2\n",
       " A  0.423833  0.532426  0.702053\n",
       " B  1.000000  1.000000  1.000000\n",
       " C  0.561798  0.720333  0.970285\n",
       " D  1.484118  1.855913  2.252796,\n",
       "           0         1         2\n",
       " A  0.423833  0.532426  0.702053\n",
       " B  1.000000  1.000000  1.000000\n",
       " C  0.561798  0.720333  0.970285\n",
       " D  1.484118  1.855913  2.252796]"
      ]
     },
     "execution_count": 44,
     "metadata": {},
     "output_type": "execute_result"
    }
   ],
   "source": [
    "ret_data"
   ]
  },
  {
   "cell_type": "code",
   "execution_count": 45,
   "metadata": {},
   "outputs": [],
   "source": [
    "def activate(pandas_alldc):\n",
    "    pandas_alldc['L'] = pandas_alldc['L']*(1/pandas_alldc['L'].sum())\n",
    "    pandas_alldc['M'] = pandas_alldc['M']*(1/pandas_alldc['M'].sum())\n",
    "    pandas_alldc['U'] = pandas_alldc['U']*(1/pandas_alldc['U'].sum())\n",
    "    return pandas_alldc\n",
    "\n",
    "pandas_alldc_acitve = activate(pandas_alldc)"
   ]
  },
  {
   "cell_type": "code",
   "execution_count": 46,
   "metadata": {},
   "outputs": [
    {
     "data": {
      "text/html": [
       "<div>\n",
       "<style scoped>\n",
       "    .dataframe tbody tr th:only-of-type {\n",
       "        vertical-align: middle;\n",
       "    }\n",
       "\n",
       "    .dataframe tbody tr th {\n",
       "        vertical-align: top;\n",
       "    }\n",
       "\n",
       "    .dataframe thead th {\n",
       "        text-align: right;\n",
       "    }\n",
       "</style>\n",
       "<table border=\"1\" class=\"dataframe\">\n",
       "  <thead>\n",
       "    <tr style=\"text-align: right;\">\n",
       "      <th></th>\n",
       "      <th>L</th>\n",
       "      <th>M</th>\n",
       "      <th>U</th>\n",
       "    </tr>\n",
       "  </thead>\n",
       "  <tbody>\n",
       "    <tr>\n",
       "      <th>A</th>\n",
       "      <td>0.137732</td>\n",
       "      <td>0.130689</td>\n",
       "      <td>0.130554</td>\n",
       "    </tr>\n",
       "    <tr>\n",
       "      <th>B</th>\n",
       "      <td>0.267833</td>\n",
       "      <td>0.244807</td>\n",
       "      <td>0.224172</td>\n",
       "    </tr>\n",
       "    <tr>\n",
       "      <th>C</th>\n",
       "      <td>0.205770</td>\n",
       "      <td>0.221162</td>\n",
       "      <td>0.237620</td>\n",
       "    </tr>\n",
       "    <tr>\n",
       "      <th>D</th>\n",
       "      <td>0.388665</td>\n",
       "      <td>0.403341</td>\n",
       "      <td>0.407653</td>\n",
       "    </tr>\n",
       "  </tbody>\n",
       "</table>\n",
       "</div>"
      ],
      "text/plain": [
       "          L         M         U\n",
       "A  0.137732  0.130689  0.130554\n",
       "B  0.267833  0.244807  0.224172\n",
       "C  0.205770  0.221162  0.237620\n",
       "D  0.388665  0.403341  0.407653"
      ]
     },
     "execution_count": 46,
     "metadata": {},
     "output_type": "execute_result"
    }
   ],
   "source": [
    "pandas_alldc_acitve"
   ]
  },
  {
   "cell_type": "code",
   "execution_count": 47,
   "metadata": {},
   "outputs": [],
   "source": [
    "def row2vector(active_data):\n",
    "    import numpy as np\n",
    "    if active_data.size==9:\n",
    "        s1 = np.array(active_data.iloc[[0]])\n",
    "        s2 = np.array(active_data.iloc[[1]])\n",
    "        s3 = np.array(active_data.iloc[[2]])\n",
    "        return [s1,s2,s3]\n",
    "    else:\n",
    "        s1 = np.array(active_data.iloc[[0]])\n",
    "        s2 = np.array(active_data.iloc[[1]])\n",
    "        s3 = np.array(active_data.iloc[[2]])\n",
    "        s4 = np.array(active_data.iloc[[3]])\n",
    "        return [s1,s2,s3,s4]"
   ]
  },
  {
   "cell_type": "code",
   "execution_count": 48,
   "metadata": {},
   "outputs": [],
   "source": [
    "def vM2_M1(M2, M1):\n",
    "    \"\"\"\n",
    "    Args:\n",
    "        M2(l2,m2,u2)\n",
    "        M1(l1,m1,u1)\n",
    "    return: V(M2>=M1)\n",
    "    \"\"\"\n",
    "    M1=M1[0]; M2=M2[0]\n",
    "    if M2[1]>=M1[1]:\n",
    "        return 1\n",
    "    # elif M1[0]>M2[2]:\n",
    "    #     return 0\n",
    "    else:\n",
    "        return (M1[0]-M2[2])/( (M2[1]-M2[2]) - (M1[1]-M1[0]) )"
   ]
  },
  {
   "cell_type": "code",
   "execution_count": 49,
   "metadata": {},
   "outputs": [],
   "source": [
    "def final_data(active_data):\n",
    "    if active_data.size==9:\n",
    "        s1, s2 ,s3 = row2vector(active_data)\n",
    "\n",
    "        s1_s2 = vM2_M1(s1,s2)\n",
    "        s1_s3 = vM2_M1(s1,s3)\n",
    "        min_s1 = min(s1_s2,s1_s3)\n",
    "\n",
    "        s2_s1 = vM2_M1(s2,s1)\n",
    "        s2_s3 = vM2_M1(s2,s3)\n",
    "        min_s2 = min(s2_s1, s2_s3)\n",
    "\n",
    "        s3_s1 = vM2_M1(s3,s1)\n",
    "        s3_s2 = vM2_M1(s3,s2)\n",
    "        min_s3 = min(s3_s1,s3_s2)\n",
    "\n",
    "        final_data_s1 = pd.DataFrame([s1_s2,s1_s3,min_s1], index=['s1>s2', 's1>s3','min_s1'])\n",
    "        final_data_s2 = pd.DataFrame([s2_s1,s2_s3,min_s2], index=['s2>s1', 's2>s3','min_s2'])\n",
    "        final_data_s3 = pd.DataFrame([s3_s1,s3_s2,min_s3], index=['s3>s1', 's3>s2','min_s3'])\n",
    "        return final_data_s1,final_data_s2,final_data_s3\n",
    "    else:\n",
    "        s1, s2 ,s3, s4 = row2vector(active_data)\n",
    "\n",
    "        s1_s2 = vM2_M1(s1,s2)\n",
    "        s1_s3 = vM2_M1(s1,s3)\n",
    "        s1_s4 = vM2_M1(s1,s4)\n",
    "        min_s1 = min(s1_s2,s1_s3,s1_s4)\n",
    "\n",
    "\n",
    "        s2_s1 = vM2_M1(s2,s1)\n",
    "        s2_s3 = vM2_M1(s2,s3)\n",
    "        s2_s4 = vM2_M1(s2,s4)\n",
    "        min_s2 = min(s2_s1,s2_s3,s2_s4)\n",
    "\n",
    "\n",
    "        s3_s1 = vM2_M1(s3,s1)\n",
    "        s3_s2 = vM2_M1(s3,s2)\n",
    "        s3_s4 = vM2_M1(s3,s4)\n",
    "        min_s3 = min(s3_s1,s3_s2,s3_s4)\n",
    "\n",
    "\n",
    "        s4_s1 = vM2_M1(s4,s1)\n",
    "        s4_s2 = vM2_M1(s4,s2)\n",
    "        s4_s3 = vM2_M1(s4,s3)\n",
    "        min_s4 = min(s4_s1,s4_s2,s4_s3)\n",
    "\n",
    "        final_data_s1 = pd.DataFrame([s1_s2,s1_s3,s1_s4,min_s1], index=['s1>s2', 's1>s3','s1>s4', 'min_s1'])\n",
    "        final_data_s2 = pd.DataFrame([s2_s1,s2_s3,s2_s4,min_s2], index=['s2>s1', 's2>s3','s2>s4','min_s2'])\n",
    "        final_data_s3 = pd.DataFrame([s3_s1,s3_s2,s3_s4,min_s3], index=['s3>s1', 's3>s2','s3>s4','min_s3'])\n",
    "        final_data_s4 = pd.DataFrame([s4_s1,s4_s2,s4_s3,min_s4], index=['s4>s1', 's4>s2','s4>s3','min_s4'])\n",
    "        return final_data_s1,final_data_s2,final_data_s3,final_data_s4"
   ]
  },
  {
   "cell_type": "code",
   "execution_count": 50,
   "metadata": {},
   "outputs": [],
   "source": [
    "f1, f2, f3, f4 = final_data(pandas_alldc_acitve)"
   ]
  },
  {
   "cell_type": "code",
   "execution_count": 51,
   "metadata": {},
   "outputs": [
    {
     "name": "stderr",
     "output_type": "stream",
     "text": [
      "C:\\Users\\amrbe\\AppData\\Local\\Temp\\ipykernel_5896\\1365917040.py:13: FutureWarning: save is not part of the public API, usage can give in unexpected results and will be removed in a future version\n",
      "  writer.save()\n"
     ]
    }
   ],
   "source": [
    "sum_min = f1.iloc[[2]].values+f2.iloc[[2]].values+f3.iloc[[2]].values+f4.iloc[[2]].values\n",
    "sum_min_pd = pd.DataFrame(sum_min,index=['sum_min'])\n",
    "\n",
    "lst = [[int(f1.iloc[[2]].values/sum_min),int(f2.iloc[[2]].values/sum_min),int(f3.iloc[[2]].values/sum_min),int(f4.iloc[[2]].values/sum_min)]]\n",
    "d_result = pd.DataFrame(lst,index=list('d'))\n",
    "\n",
    "def multiple_dfs(df_list, sheets, file_name, spaces):\n",
    "    writer = pd.ExcelWriter(file_name,engine='xlsxwriter')   \n",
    "    row = 0\n",
    "    for dataframe in df_list:\n",
    "        dataframe.to_excel(writer,sheet_name=sheets,startrow=row , startcol=0)   \n",
    "        row = row + len(dataframe.index) + spaces + 1\n",
    "    writer.save()\n",
    "\n",
    "# list of dataframes\n",
    "dfs = [ret_data[0],ret_data[1],ret_data[2],ret_data[3], pandas_alldc_data,pandas_alldc_acitve,f1,f2,f3,f4, sum_min_pd, d_result]\n",
    "\n",
    "# run function\n",
    "multiple_dfs(dfs, 'Validation', f'test1.xlsx', 1)"
   ]
  }
 ],
 "metadata": {
  "kernelspec": {
   "display_name": "Python 3.10.7 ('env': venv)",
   "language": "python",
   "name": "python3"
  },
  "language_info": {
   "codemirror_mode": {
    "name": "ipython",
    "version": 3
   },
   "file_extension": ".py",
   "mimetype": "text/x-python",
   "name": "python",
   "nbconvert_exporter": "python",
   "pygments_lexer": "ipython3",
   "version": "3.10.7"
  },
  "orig_nbformat": 4,
  "vscode": {
   "interpreter": {
    "hash": "ff9e52c2b4dbab856b465dca49c0075cb6eacd86ebe1006c68cc4081b19476dc"
   }
  }
 },
 "nbformat": 4,
 "nbformat_minor": 2
}
