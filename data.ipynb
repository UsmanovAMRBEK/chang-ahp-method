{
 "cells": [
  {
   "cell_type": "code",
   "execution_count": 1,
   "metadata": {},
   "outputs": [],
   "source": [
    "import numpy as np\n",
    "import pandas as pd\n",
    "import openpyxl"
   ]
  },
  {
   "cell_type": "markdown",
   "metadata": {},
   "source": [
    "## Prepdata 3"
   ]
  },
  {
   "cell_type": "code",
   "execution_count": 2,
   "metadata": {},
   "outputs": [],
   "source": [
    "prep_data = openpyxl.load_workbook('./assets/prep_data.xlsx')\n",
    "sheet = prep_data.active\n",
    "\n",
    "\n",
    "# cells = sheet['B3':'D5']\n",
    "i = 3\n",
    "un = []; ip= []; js=[]\n",
    "for _ in range(100):\n",
    "    un1 = []; ip1 = []; js1 = []\n",
    "    for c1, c2, c3 in sheet[f'B{i}':f'D{i+2}']:\n",
    "        un1.append([c1.value, c2.value, c3.value])\n",
    "\n",
    "    for c1, c2, c3 in sheet[f'E{i}':f'G{i+2}']:\n",
    "        ip1.append([c1.value, c2.value, c3.value])\n",
    "\n",
    "    for c1, c2, c3 in sheet[f'H{i}':f'J{i+2}']:\n",
    "        js1.append([c1.value, c2.value, c3.value])\n",
    "    \n",
    "    un.append(un1)\n",
    "    ip.append(ip1)\n",
    "    js.append(js1)\n",
    "\n",
    "    i+=5\n"
   ]
  },
  {
   "cell_type": "code",
   "execution_count": 3,
   "metadata": {},
   "outputs": [
    {
     "data": {
      "text/plain": [
       "[[1, 1, 1], [2, 2.5, 3], [2, 2.5, 3]]"
      ]
     },
     "execution_count": 3,
     "metadata": {},
     "output_type": "execute_result"
    }
   ],
   "source": [
    "un[1]"
   ]
  },
  {
   "cell_type": "code",
   "execution_count": 4,
   "metadata": {},
   "outputs": [],
   "source": [
    "persons = []\n",
    "for i in range(100):\n",
    "    persons.append([un[i],ip[i],js[i]])"
   ]
  },
  {
   "cell_type": "code",
   "execution_count": 5,
   "metadata": {},
   "outputs": [
    {
     "data": {
      "text/plain": [
       "[[[1, 1, 1], [2, 2.5, 3], [2, 2.5, 3]],\n",
       " [[0.3333333333333333, 0.4, 0.5], [1, 1, 1], [0.3333, 0.4, 0.5]],\n",
       " [[0.3333, 0.4, 0.5], [2, 2.5, 3], [1, 1, 1]]]"
      ]
     },
     "execution_count": 5,
     "metadata": {},
     "output_type": "execute_result"
    }
   ],
   "source": [
    "persons[0]"
   ]
  },
  {
   "cell_type": "code",
   "execution_count": 6,
   "metadata": {},
   "outputs": [],
   "source": [
    "persons_data = np.array(persons)"
   ]
  },
  {
   "cell_type": "code",
   "execution_count": 7,
   "metadata": {},
   "outputs": [
    {
     "data": {
      "text/plain": [
       "array([[[1.        , 1.        , 1.        ],\n",
       "        [2.        , 2.5       , 3.        ],\n",
       "        [2.        , 2.5       , 3.        ]],\n",
       "\n",
       "       [[0.33333333, 0.4       , 0.5       ],\n",
       "        [1.        , 1.        , 1.        ],\n",
       "        [0.3333    , 0.4       , 0.5       ]],\n",
       "\n",
       "       [[0.3333    , 0.4       , 0.5       ],\n",
       "        [2.        , 2.5       , 3.        ],\n",
       "        [1.        , 1.        , 1.        ]]])"
      ]
     },
     "execution_count": 7,
     "metadata": {},
     "output_type": "execute_result"
    }
   ],
   "source": [
    "persons_data[0]\n",
    "# har bir element bir odamning ma`lumotlarini ifodalaydi.\n",
    "# person_data[0] -> birinchi odamning ma'lumotlari\n",
    "# Ma'lumot 3 ta qismdan: 1) unloading capacity\t2) Institutions and policies 3) Jumbo system\n",
    "\n"
   ]
  },
  {
   "cell_type": "code",
   "execution_count": 8,
   "metadata": {},
   "outputs": [
    {
     "data": {
      "text/plain": [
       "array([[1. , 1. , 1. ],\n",
       "       [2. , 2.5, 3. ],\n",
       "       [2. , 2.5, 3. ]])"
      ]
     },
     "execution_count": 8,
     "metadata": {},
     "output_type": "execute_result"
    }
   ],
   "source": [
    "persons_data[0][0] # unloading capacity"
   ]
  },
  {
   "cell_type": "code",
   "execution_count": 9,
   "metadata": {},
   "outputs": [
    {
     "data": {
      "text/plain": [
       "array([[0.33333333, 0.4       , 0.5       ],\n",
       "       [1.        , 1.        , 1.        ],\n",
       "       [0.3333    , 0.4       , 0.5       ]])"
      ]
     },
     "execution_count": 9,
     "metadata": {},
     "output_type": "execute_result"
    }
   ],
   "source": [
    "persons_data[0][1] # Institutions and policies"
   ]
  },
  {
   "cell_type": "code",
   "execution_count": 10,
   "metadata": {},
   "outputs": [
    {
     "data": {
      "text/plain": [
       "array([[0.3333, 0.4   , 0.5   ],\n",
       "       [2.    , 2.5   , 3.    ],\n",
       "       [1.    , 1.    , 1.    ]])"
      ]
     },
     "execution_count": 10,
     "metadata": {},
     "output_type": "execute_result"
    }
   ],
   "source": [
    "persons_data[0][2] # Jumbo system"
   ]
  },
  {
   "cell_type": "code",
   "execution_count": 11,
   "metadata": {},
   "outputs": [],
   "source": [
    "np.save('person_prep_data_3.npy', persons_data)"
   ]
  },
  {
   "cell_type": "markdown",
   "metadata": {},
   "source": [
    "## Prepdata1"
   ]
  },
  {
   "cell_type": "code",
   "execution_count": 12,
   "metadata": {},
   "outputs": [],
   "source": [
    "prep_data = openpyxl.load_workbook('./assets/prep_data1.xlsx')\n",
    "sheet = prep_data.active\n",
    "\n",
    "\n",
    "# cells = sheet['B3':'D5']\n",
    "i = 3\n",
    "un = []; ip= []; js=[]; dp = []\n",
    "for _ in range(100):\n",
    "    un1 = []; ip1 = []; js1 = []; dp1 = []\n",
    "    for c1, c2, c3 in sheet[f'B{i}':f'D{i+3}']:\n",
    "        un1.append([c1.value, c2.value, c3.value])\n",
    "\n",
    "    for c1, c2, c3 in sheet[f'E{i}':f'G{i+3}']:\n",
    "        ip1.append([c1.value, c2.value, c3.value])\n",
    "\n",
    "    for c1, c2, c3 in sheet[f'H{i}':f'J{i+3}']:\n",
    "        js1.append([c1.value, c2.value, c3.value])\n",
    "\n",
    "    for c1, c2, c3 in sheet[f'K{i}':f'M{i+3}']:\n",
    "        dp1.append([c1.value, c2.value, c3.value])\n",
    "    \n",
    "    un.append(un1)\n",
    "    ip.append(ip1)\n",
    "    js.append(js1)\n",
    "    dp.append(dp1)\n",
    "\n",
    "    i+=6"
   ]
  },
  {
   "cell_type": "code",
   "execution_count": 13,
   "metadata": {},
   "outputs": [],
   "source": [
    "all_prep1_data = un+ip+js+dp"
   ]
  },
  {
   "cell_type": "code",
   "execution_count": 14,
   "metadata": {},
   "outputs": [
    {
     "data": {
      "text/plain": [
       "[[0.3333, 0.4, 0.5], [0.3333, 0.4, 0.5], [0.3333, 0.4, 0.5], [1, 1, 1]]"
      ]
     },
     "execution_count": 14,
     "metadata": {},
     "output_type": "execute_result"
    }
   ],
   "source": [
    "dp[0]"
   ]
  },
  {
   "cell_type": "code",
   "execution_count": 15,
   "metadata": {},
   "outputs": [],
   "source": [
    "persons = []\n",
    "for i in range(100):\n",
    "    persons.append([un[i],ip[i],js[i],dp[i]])"
   ]
  },
  {
   "cell_type": "code",
   "execution_count": 16,
   "metadata": {},
   "outputs": [
    {
     "data": {
      "text/plain": [
       "[[[1, 1, 1], [2, 2.5, 3], [2, 2.5, 3], [2, 2.5, 3]],\n",
       " [[0.333333333333333, 0.4, 0.5], [1, 1, 1], [2, 2.5, 3], [2, 2.5, 3]],\n",
       " [[0.3333, 0.4, 0.5], [0.3333, 0.4, 0.5], [1, 1, 1], [2, 2.5, 3]],\n",
       " [[0.3333, 0.4, 0.5], [0.3333, 0.4, 0.5], [0.3333, 0.4, 0.5], [1, 1, 1]]]"
      ]
     },
     "execution_count": 16,
     "metadata": {},
     "output_type": "execute_result"
    }
   ],
   "source": [
    "persons[0]"
   ]
  },
  {
   "cell_type": "code",
   "execution_count": 17,
   "metadata": {},
   "outputs": [],
   "source": [
    "persons_data = np.array(persons)"
   ]
  },
  {
   "cell_type": "code",
   "execution_count": 18,
   "metadata": {},
   "outputs": [],
   "source": [
    "np.save('person_prep_data_1.npy',persons_data)"
   ]
  },
  {
   "cell_type": "markdown",
   "metadata": {},
   "source": [
    "## Prepdata 2"
   ]
  },
  {
   "cell_type": "code",
   "execution_count": 19,
   "metadata": {},
   "outputs": [],
   "source": [
    "prep_data = openpyxl.load_workbook('./assets/prep_data2.xlsx')\n",
    "sheet = prep_data.active\n",
    "\n",
    "\n",
    "# cells = sheet['B3':'D5']\n",
    "i = 3\n",
    "un = []; ip= []; js=[]\n",
    "for _ in range(100):\n",
    "    un1 = []; ip1 = []; js1 = []\n",
    "    for c1, c2, c3 in sheet[f'B{i}':f'D{i+2}']:\n",
    "        un1.append([c1.value, c2.value, c3.value])\n",
    "\n",
    "    for c1, c2, c3 in sheet[f'E{i}':f'G{i+2}']:\n",
    "        ip1.append([c1.value, c2.value, c3.value])\n",
    "\n",
    "    for c1, c2, c3 in sheet[f'H{i}':f'J{i+2}']:\n",
    "        js1.append([c1.value, c2.value, c3.value])\n",
    "\n",
    "    \n",
    "    un.append(un1)\n",
    "    ip.append(ip1)\n",
    "    js.append(js1)\n",
    "\n",
    "    i+=5"
   ]
  },
  {
   "cell_type": "code",
   "execution_count": 20,
   "metadata": {},
   "outputs": [],
   "source": [
    "all_prep2_data = un+ip+js"
   ]
  },
  {
   "cell_type": "code",
   "execution_count": 21,
   "metadata": {},
   "outputs": [],
   "source": [
    "persons = []\n",
    "for i in range(100):\n",
    "    persons.append([un[i],ip[i],js[i]])"
   ]
  },
  {
   "cell_type": "code",
   "execution_count": 22,
   "metadata": {},
   "outputs": [
    {
     "data": {
      "text/plain": [
       "[[[1, 1, 1], [0.6666666666666666, 1, 2], [2, 2.5, 3]],\n",
       " [[0.5, 1, 1.5], [1, 1, 1], [2, 2.5, 3]],\n",
       " [[0.3333333333333333, 0.4, 0.5], [0.3333, 0.4, 0.5], [1, 1, 1]]]"
      ]
     },
     "execution_count": 22,
     "metadata": {},
     "output_type": "execute_result"
    }
   ],
   "source": [
    "persons[0]"
   ]
  },
  {
   "cell_type": "code",
   "execution_count": 23,
   "metadata": {},
   "outputs": [],
   "source": [
    "persons_data = np.array(persons)"
   ]
  },
  {
   "cell_type": "code",
   "execution_count": 24,
   "metadata": {},
   "outputs": [],
   "source": [
    "np.save('person_prep_data_2.npy',persons_data)"
   ]
  },
  {
   "cell_type": "markdown",
   "metadata": {},
   "source": [
    "## Prepdata4"
   ]
  },
  {
   "cell_type": "code",
   "execution_count": 25,
   "metadata": {},
   "outputs": [],
   "source": [
    "prep_data = openpyxl.load_workbook('./assets/prep_data4.xlsx')\n",
    "sheet = prep_data.active\n",
    "\n",
    "\n",
    "# cells = sheet['B3':'D5']\n",
    "i = 3\n",
    "un = []; ip= []; js=[]\n",
    "for _ in range(100):\n",
    "    un1 = []; ip1 = []; js1 = []\n",
    "    for c1, c2, c3 in sheet[f'B{i}':f'D{i+2}']:\n",
    "        un1.append([c1.value, c2.value, c3.value])\n",
    "\n",
    "    for c1, c2, c3 in sheet[f'E{i}':f'G{i+2}']:\n",
    "        ip1.append([c1.value, c2.value, c3.value])\n",
    "\n",
    "    for c1, c2, c3 in sheet[f'H{i}':f'J{i+2}']:\n",
    "        js1.append([c1.value, c2.value, c3.value])\n",
    "    \n",
    "    un.append(un1)\n",
    "    ip.append(ip1)\n",
    "    js.append(js1)\n",
    "\n",
    "    i+=5\n"
   ]
  },
  {
   "cell_type": "code",
   "execution_count": 26,
   "metadata": {},
   "outputs": [],
   "source": [
    "all_prep4_data = un+ip+js"
   ]
  },
  {
   "cell_type": "code",
   "execution_count": 27,
   "metadata": {},
   "outputs": [],
   "source": [
    "persons = []\n",
    "for i in range(100):\n",
    "    persons.append([un[i],ip[i],js[i]])"
   ]
  },
  {
   "cell_type": "code",
   "execution_count": 28,
   "metadata": {},
   "outputs": [],
   "source": [
    "persons_data = np.array(persons)"
   ]
  },
  {
   "cell_type": "code",
   "execution_count": 29,
   "metadata": {},
   "outputs": [],
   "source": [
    "np.save('person_prep_data_4.npy',persons_data)"
   ]
  },
  {
   "cell_type": "markdown",
   "metadata": {},
   "source": [
    "## Prepdata5"
   ]
  },
  {
   "cell_type": "code",
   "execution_count": 30,
   "metadata": {},
   "outputs": [],
   "source": [
    "prep_data = openpyxl.load_workbook('./assets/prep_data5.xlsx')\n",
    "sheet = prep_data.active\n",
    "\n",
    "\n",
    "# cells = sheet['B3':'D5']\n",
    "i = 3\n",
    "un = []; ip= []; js=[]\n",
    "for _ in range(100):\n",
    "    un1 = []; ip1 = []; js1 = []\n",
    "    for c1, c2, c3 in sheet[f'B{i}':f'D{i+2}']:\n",
    "        un1.append([c1.value, c2.value, c3.value])\n",
    "\n",
    "    for c1, c2, c3 in sheet[f'E{i}':f'G{i+2}']:\n",
    "        ip1.append([c1.value, c2.value, c3.value])\n",
    "\n",
    "    for c1, c2, c3 in sheet[f'H{i}':f'J{i+2}']:\n",
    "        js1.append([c1.value, c2.value, c3.value])\n",
    "    \n",
    "    un.append(un1)\n",
    "    ip.append(ip1)\n",
    "    js.append(js1)\n",
    "\n",
    "    i+=5"
   ]
  },
  {
   "cell_type": "code",
   "execution_count": null,
   "metadata": {},
   "outputs": [],
   "source": [
    "all_prep5_data = un+ip+js"
   ]
  },
  {
   "cell_type": "code",
   "execution_count": null,
   "metadata": {},
   "outputs": [],
   "source": [
    "persons = []\n",
    "for i in range(100):\n",
    "    persons.append([un[i],ip[i],js[i]])"
   ]
  },
  {
   "cell_type": "code",
   "execution_count": null,
   "metadata": {},
   "outputs": [],
   "source": [
    "persons_data = np.array(persons)"
   ]
  },
  {
   "cell_type": "code",
   "execution_count": null,
   "metadata": {},
   "outputs": [],
   "source": [
    "np.save('person_prep_data_5.npy',persons_data)"
   ]
  },
  {
   "cell_type": "code",
   "execution_count": null,
   "metadata": {},
   "outputs": [],
   "source": []
  }
 ],
 "metadata": {
  "kernelspec": {
   "display_name": "Python 3.10.7 ('env': venv)",
   "language": "python",
   "name": "python3"
  },
  "language_info": {
   "codemirror_mode": {
    "name": "ipython",
    "version": 3
   },
   "file_extension": ".py",
   "mimetype": "text/x-python",
   "name": "python",
   "nbconvert_exporter": "python",
   "pygments_lexer": "ipython3",
   "version": "3.10.7"
  },
  "orig_nbformat": 4,
  "vscode": {
   "interpreter": {
    "hash": "ff9e52c2b4dbab856b465dca49c0075cb6eacd86ebe1006c68cc4081b19476dc"
   }
  }
 },
 "nbformat": 4,
 "nbformat_minor": 2
}
