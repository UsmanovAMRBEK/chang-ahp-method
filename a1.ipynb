{
 "cells": [
  {
   "cell_type": "code",
   "execution_count": 32,
   "metadata": {},
   "outputs": [],
   "source": [
    "import numpy as np\n",
    "import pandas as pd"
   ]
  },
  {
   "cell_type": "code",
   "execution_count": 33,
   "metadata": {},
   "outputs": [],
   "source": [
    "persons_data = np.load('./person_prep_data_1.npy')"
   ]
  },
  {
   "cell_type": "code",
   "execution_count": 34,
   "metadata": {},
   "outputs": [],
   "source": [
    "a = 57"
   ]
  },
  {
   "cell_type": "code",
   "execution_count": 35,
   "metadata": {},
   "outputs": [
    {
     "data": {
      "text/plain": [
       "array([[[1.    , 1.    , 1.    ],\n",
       "        [0.6667, 1.    , 2.    ],\n",
       "        [2.    , 2.5   , 3.    ],\n",
       "        [0.3333, 0.4   , 0.5   ]],\n",
       "\n",
       "       [[0.5   , 1.    , 1.5   ],\n",
       "        [1.    , 1.    , 1.    ],\n",
       "        [0.5   , 1.    , 1.5   ],\n",
       "        [2.    , 2.5   , 3.    ]],\n",
       "\n",
       "       [[0.3333, 0.4   , 0.5   ],\n",
       "        [0.6667, 1.    , 2.    ],\n",
       "        [1.    , 1.    , 1.    ],\n",
       "        [0.3333, 0.4   , 0.5   ]],\n",
       "\n",
       "       [[2.    , 2.5   , 3.    ],\n",
       "        [0.3333, 0.4   , 0.5   ],\n",
       "        [2.    , 2.5   , 3.    ],\n",
       "        [1.    , 1.    , 1.    ]]])"
      ]
     },
     "execution_count": 35,
     "metadata": {},
     "output_type": "execute_result"
    }
   ],
   "source": [
    "persons_data[a]"
   ]
  },
  {
   "cell_type": "code",
   "execution_count": 36,
   "metadata": {},
   "outputs": [
    {
     "data": {
      "text/plain": [
       "array([[3.8333, 4.9   , 6.    ],\n",
       "       [2.6667, 3.4   , 5.5   ],\n",
       "       [5.5   , 7.    , 8.5   ],\n",
       "       [3.6666, 4.3   , 5.    ]])"
      ]
     },
     "execution_count": 36,
     "metadata": {},
     "output_type": "execute_result"
    }
   ],
   "source": [
    "data = persons_data[a][0]\n",
    "for i in range(1,4):\n",
    "    data+=persons_data[a][i]\n",
    "data"
   ]
  },
  {
   "cell_type": "code",
   "execution_count": 37,
   "metadata": {},
   "outputs": [],
   "source": [
    "pandas_alldc = pd.DataFrame(data)\n",
    "pandas_alldc.index = ['A','B','C','D']\n",
    "pandas_alldc.columns = ['L','M','U']"
   ]
  },
  {
   "cell_type": "code",
   "execution_count": 38,
   "metadata": {},
   "outputs": [
    {
     "data": {
      "text/html": [
       "<div>\n",
       "<style scoped>\n",
       "    .dataframe tbody tr th:only-of-type {\n",
       "        vertical-align: middle;\n",
       "    }\n",
       "\n",
       "    .dataframe tbody tr th {\n",
       "        vertical-align: top;\n",
       "    }\n",
       "\n",
       "    .dataframe thead th {\n",
       "        text-align: right;\n",
       "    }\n",
       "</style>\n",
       "<table border=\"1\" class=\"dataframe\">\n",
       "  <thead>\n",
       "    <tr style=\"text-align: right;\">\n",
       "      <th></th>\n",
       "      <th>L</th>\n",
       "      <th>M</th>\n",
       "      <th>U</th>\n",
       "    </tr>\n",
       "  </thead>\n",
       "  <tbody>\n",
       "    <tr>\n",
       "      <th>A</th>\n",
       "      <td>3.8333</td>\n",
       "      <td>4.9</td>\n",
       "      <td>6.0</td>\n",
       "    </tr>\n",
       "    <tr>\n",
       "      <th>B</th>\n",
       "      <td>2.6667</td>\n",
       "      <td>3.4</td>\n",
       "      <td>5.5</td>\n",
       "    </tr>\n",
       "    <tr>\n",
       "      <th>C</th>\n",
       "      <td>5.5000</td>\n",
       "      <td>7.0</td>\n",
       "      <td>8.5</td>\n",
       "    </tr>\n",
       "    <tr>\n",
       "      <th>D</th>\n",
       "      <td>3.6666</td>\n",
       "      <td>4.3</td>\n",
       "      <td>5.0</td>\n",
       "    </tr>\n",
       "  </tbody>\n",
       "</table>\n",
       "</div>"
      ],
      "text/plain": [
       "        L    M    U\n",
       "A  3.8333  4.9  6.0\n",
       "B  2.6667  3.4  5.5\n",
       "C  5.5000  7.0  8.5\n",
       "D  3.6666  4.3  5.0"
      ]
     },
     "execution_count": 38,
     "metadata": {},
     "output_type": "execute_result"
    }
   ],
   "source": [
    "pandas_alldc"
   ]
  },
  {
   "cell_type": "code",
   "execution_count": 39,
   "metadata": {},
   "outputs": [
    {
     "data": {
      "text/html": [
       "<div>\n",
       "<style scoped>\n",
       "    .dataframe tbody tr th:only-of-type {\n",
       "        vertical-align: middle;\n",
       "    }\n",
       "\n",
       "    .dataframe tbody tr th {\n",
       "        vertical-align: top;\n",
       "    }\n",
       "\n",
       "    .dataframe thead th {\n",
       "        text-align: right;\n",
       "    }\n",
       "</style>\n",
       "<table border=\"1\" class=\"dataframe\">\n",
       "  <thead>\n",
       "    <tr style=\"text-align: right;\">\n",
       "      <th></th>\n",
       "      <th>L</th>\n",
       "      <th>M</th>\n",
       "      <th>U</th>\n",
       "    </tr>\n",
       "  </thead>\n",
       "  <tbody>\n",
       "    <tr>\n",
       "      <th>A</th>\n",
       "      <td>3.8333</td>\n",
       "      <td>4.9</td>\n",
       "      <td>6.0</td>\n",
       "    </tr>\n",
       "    <tr>\n",
       "      <th>B</th>\n",
       "      <td>2.6667</td>\n",
       "      <td>3.4</td>\n",
       "      <td>5.5</td>\n",
       "    </tr>\n",
       "    <tr>\n",
       "      <th>C</th>\n",
       "      <td>5.5000</td>\n",
       "      <td>7.0</td>\n",
       "      <td>8.5</td>\n",
       "    </tr>\n",
       "    <tr>\n",
       "      <th>D</th>\n",
       "      <td>3.6666</td>\n",
       "      <td>4.3</td>\n",
       "      <td>5.0</td>\n",
       "    </tr>\n",
       "  </tbody>\n",
       "</table>\n",
       "</div>"
      ],
      "text/plain": [
       "        L    M    U\n",
       "A  3.8333  4.9  6.0\n",
       "B  2.6667  3.4  5.5\n",
       "C  5.5000  7.0  8.5\n",
       "D  3.6666  4.3  5.0"
      ]
     },
     "execution_count": 39,
     "metadata": {},
     "output_type": "execute_result"
    }
   ],
   "source": [
    "pandas_alldc_data = pandas_alldc.copy()\n",
    "pandas_alldc_data"
   ]
  },
  {
   "cell_type": "code",
   "execution_count": 40,
   "metadata": {},
   "outputs": [],
   "source": [
    "def activate(pandas_alldc):\n",
    "    pandas_alldc['L'] = pandas_alldc['L']*(1/pandas_alldc['L'].sum())\n",
    "    pandas_alldc['M'] = pandas_alldc['M']*(1/pandas_alldc['M'].sum())\n",
    "    pandas_alldc['U'] = pandas_alldc['U']*(1/pandas_alldc['U'].sum())\n",
    "    return pandas_alldc\n",
    "\n",
    "pandas_alldc_acitve = activate(pandas_alldc)"
   ]
  },
  {
   "cell_type": "code",
   "execution_count": 41,
   "metadata": {},
   "outputs": [
    {
     "data": {
      "text/html": [
       "<div>\n",
       "<style scoped>\n",
       "    .dataframe tbody tr th:only-of-type {\n",
       "        vertical-align: middle;\n",
       "    }\n",
       "\n",
       "    .dataframe tbody tr th {\n",
       "        vertical-align: top;\n",
       "    }\n",
       "\n",
       "    .dataframe thead th {\n",
       "        text-align: right;\n",
       "    }\n",
       "</style>\n",
       "<table border=\"1\" class=\"dataframe\">\n",
       "  <thead>\n",
       "    <tr style=\"text-align: right;\">\n",
       "      <th></th>\n",
       "      <th>L</th>\n",
       "      <th>M</th>\n",
       "      <th>U</th>\n",
       "    </tr>\n",
       "  </thead>\n",
       "  <tbody>\n",
       "    <tr>\n",
       "      <th>A</th>\n",
       "      <td>0.244680</td>\n",
       "      <td>0.250000</td>\n",
       "      <td>0.24</td>\n",
       "    </tr>\n",
       "    <tr>\n",
       "      <th>B</th>\n",
       "      <td>0.170216</td>\n",
       "      <td>0.173469</td>\n",
       "      <td>0.22</td>\n",
       "    </tr>\n",
       "    <tr>\n",
       "      <th>C</th>\n",
       "      <td>0.351065</td>\n",
       "      <td>0.357143</td>\n",
       "      <td>0.34</td>\n",
       "    </tr>\n",
       "    <tr>\n",
       "      <th>D</th>\n",
       "      <td>0.234039</td>\n",
       "      <td>0.219388</td>\n",
       "      <td>0.20</td>\n",
       "    </tr>\n",
       "  </tbody>\n",
       "</table>\n",
       "</div>"
      ],
      "text/plain": [
       "          L         M     U\n",
       "A  0.244680  0.250000  0.24\n",
       "B  0.170216  0.173469  0.22\n",
       "C  0.351065  0.357143  0.34\n",
       "D  0.234039  0.219388  0.20"
      ]
     },
     "execution_count": 41,
     "metadata": {},
     "output_type": "execute_result"
    }
   ],
   "source": [
    "pandas_alldc_acitve\n"
   ]
  },
  {
   "cell_type": "code",
   "execution_count": 42,
   "metadata": {},
   "outputs": [],
   "source": [
    "def row2vector(active_data):\n",
    "    import numpy as np\n",
    "    if active_data.size==9:\n",
    "        s1 = np.array(active_data.iloc[[0]])\n",
    "        s2 = np.array(active_data.iloc[[1]])\n",
    "        s3 = np.array(active_data.iloc[[2]])\n",
    "        return [s1,s2,s3]\n",
    "    else:\n",
    "        s1 = np.array(active_data.iloc[[0]])\n",
    "        s2 = np.array(active_data.iloc[[1]])\n",
    "        s3 = np.array(active_data.iloc[[2]])\n",
    "        s4 = np.array(active_data.iloc[[3]])\n",
    "        return [s1,s2,s3,s4]"
   ]
  },
  {
   "cell_type": "code",
   "execution_count": 43,
   "metadata": {},
   "outputs": [],
   "source": [
    "def vM2_M1(M2, M1):\n",
    "    \"\"\"\n",
    "    Args:\n",
    "        M2(l2,m2,u2)\n",
    "        M1(l1,m1,u1)\n",
    "    return: V(M2>=M1)\n",
    "    \"\"\"\n",
    "    M1=M1[0]; M2=M2[0]\n",
    "    if M2[1]>=M1[1]:\n",
    "        return 1\n",
    "    elif M1[0]>M2[2]:\n",
    "        return 0\n",
    "    else:\n",
    "        return (M1[0]-M2[2])/( (M2[1]-M2[2]) - (M1[1]-M1[0]) )"
   ]
  },
  {
   "cell_type": "code",
   "execution_count": 44,
   "metadata": {},
   "outputs": [],
   "source": [
    "def final_data(active_data):\n",
    "    if active_data.size==9:\n",
    "        s1, s2 ,s3 = row2vector(active_data)\n",
    "\n",
    "        s1_s2 = vM2_M1(s1,s2)\n",
    "        s1_s3 = vM2_M1(s1,s3)\n",
    "        min_s1 = min(s1_s2,s1_s3)\n",
    "\n",
    "        s2_s1 = vM2_M1(s2,s1)\n",
    "        s2_s3 = vM2_M1(s2,s3)\n",
    "        min_s2 = min(s2_s1, s2_s3)\n",
    "\n",
    "        s3_s1 = vM2_M1(s3,s1)\n",
    "        s3_s2 = vM2_M1(s3,s2)\n",
    "        min_s3 = min(s3_s1,s3_s2)\n",
    "\n",
    "        final_data_s1 = pd.DataFrame([s1_s2,s1_s3,min_s1], index=['s1>s2', 's1>s3','min_s1'])\n",
    "        final_data_s2 = pd.DataFrame([s2_s1,s2_s3,min_s2], index=['s2>s1', 's2>s3','min_s2'])\n",
    "        final_data_s3 = pd.DataFrame([s3_s1,s3_s2,min_s3], index=['s3>s1', 's3>s2','min_s3'])\n",
    "        return final_data_s1,final_data_s2,final_data_s3\n",
    "    else:\n",
    "        s1, s2 ,s3, s4 = row2vector(active_data)\n",
    "\n",
    "        s1_s2 = vM2_M1(s1,s2)\n",
    "        s1_s3 = vM2_M1(s1,s3)\n",
    "        s1_s4 = vM2_M1(s1,s4)\n",
    "        min_s1 = min(s1_s2,s1_s3,s1_s4)\n",
    "\n",
    "\n",
    "        s2_s1 = vM2_M1(s2,s1)\n",
    "        s2_s3 = vM2_M1(s2,s3)\n",
    "        s2_s4 = vM2_M1(s2,s4)\n",
    "        min_s2 = min(s2_s1,s2_s3,s2_s4)\n",
    "\n",
    "\n",
    "        s3_s1 = vM2_M1(s3,s1)\n",
    "        s3_s2 = vM2_M1(s3,s2)\n",
    "        s3_s4 = vM2_M1(s3,s4)\n",
    "        min_s3 = min(s3_s1,s3_s2,s3_s4)\n",
    "\n",
    "\n",
    "        s4_s1 = vM2_M1(s4,s1)\n",
    "        s4_s2 = vM2_M1(s4,s2)\n",
    "        s4_s3 = vM2_M1(s4,s3)\n",
    "        min_s4 = min(s4_s1,s4_s2,s4_s3)\n",
    "\n",
    "        final_data_s1 = pd.DataFrame([s1_s2,s1_s3,s1_s4,min_s1], index=['s1>s2', 's1>s3','s1>s4', 'min_s1'])\n",
    "        final_data_s2 = pd.DataFrame([s2_s1,s2_s3,s2_s4,min_s2], index=['s2>s1', 's2>s3','s2>s4','min_s2'])\n",
    "        final_data_s3 = pd.DataFrame([s3_s1,s3_s2,s3_s4,min_s3], index=['s3>s1', 's3>s2','s3>s4','min_s3'])\n",
    "        final_data_s4 = pd.DataFrame([s4_s1,s4_s2,s4_s3,min_s4], index=['s4>s1', 's4>s2','s4>s3','min_s4'])\n",
    "        return final_data_s1,final_data_s2,final_data_s3,final_data_s4"
   ]
  },
  {
   "cell_type": "code",
   "execution_count": 45,
   "metadata": {},
   "outputs": [],
   "source": [
    "f1, f2, f3, f4 = final_data(pandas_alldc_acitve)"
   ]
  },
  {
   "cell_type": "code",
   "execution_count": 46,
   "metadata": {},
   "outputs": [
    {
     "name": "stderr",
     "output_type": "stream",
     "text": [
      "C:\\Users\\amrbe\\AppData\\Local\\Temp\\ipykernel_9316\\424395707.py:13: FutureWarning: save is not part of the public API, usage can give in unexpected results and will be removed in a future version\n",
      "  writer.save()\n"
     ]
    }
   ],
   "source": [
    "sum_min = f1.iloc[[2]].values+f2.iloc[[2]].values+f3.iloc[[2]].values+f4.iloc[[2]].values\n",
    "sum_min_pd = pd.DataFrame(sum_min,index=['sum_min'])\n",
    "\n",
    "lst = [[int(f1.iloc[[2]].values/sum_min),int(f2.iloc[[2]].values/sum_min),int(f3.iloc[[2]].values/sum_min),int(f4.iloc[[2]].values/sum_min)]]\n",
    "d_result = pd.DataFrame(lst,index=list('d'))\n",
    "\n",
    "def multiple_dfs(df_list, sheets, file_name, spaces):\n",
    "    writer = pd.ExcelWriter(file_name,engine='xlsxwriter')   \n",
    "    row = 0\n",
    "    for dataframe in df_list:\n",
    "        dataframe.to_excel(writer,sheet_name=sheets,startrow=row , startcol=0)   \n",
    "        row = row + len(dataframe.index) + spaces + 1\n",
    "    writer.save()\n",
    "\n",
    "# list of dataframes\n",
    "dfs = [pandas_alldc_data,pandas_alldc_acitve,f1,f2,f3,f4, sum_min_pd, d_result]\n",
    "\n",
    "# run function\n",
    "multiple_dfs(dfs, 'Validation', f'test_one.xlsx', 1)"
   ]
  }
 ],
 "metadata": {
  "kernelspec": {
   "display_name": "Python 3.10.7 ('env': venv)",
   "language": "python",
   "name": "python3"
  },
  "language_info": {
   "codemirror_mode": {
    "name": "ipython",
    "version": 3
   },
   "file_extension": ".py",
   "mimetype": "text/x-python",
   "name": "python",
   "nbconvert_exporter": "python",
   "pygments_lexer": "ipython3",
   "version": "3.10.7"
  },
  "orig_nbformat": 4,
  "vscode": {
   "interpreter": {
    "hash": "ff9e52c2b4dbab856b465dca49c0075cb6eacd86ebe1006c68cc4081b19476dc"
   }
  }
 },
 "nbformat": 4,
 "nbformat_minor": 2
}
